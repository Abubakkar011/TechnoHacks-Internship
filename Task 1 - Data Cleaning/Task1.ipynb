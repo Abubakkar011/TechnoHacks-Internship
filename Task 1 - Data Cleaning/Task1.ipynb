{
 "cells": [
  {
   "cell_type": "markdown",
   "id": "e08b7076-d77b-4163-81ed-6a352e1e91e3",
   "metadata": {},
   "source": [
    "# <center><font color='green'>Task 1: PERFORM DATA CLEANING</font></center>"
   ]
  },
  {
   "cell_type": "markdown",
   "id": "1327a692-af35-4825-bc50-9d3939d1dde5",
   "metadata": {},
   "source": [
    "## Performing Necessary Steps"
   ]
  },
  {
   "cell_type": "markdown",
   "id": "8b6e3eae-9c84-40db-8d61-94573e53c872",
   "metadata": {},
   "source": [
    "### Importing Required Libraries"
   ]
  },
  {
   "cell_type": "code",
   "execution_count": 64,
   "id": "1fb1f2dc-4988-43be-8185-e4419722965f",
   "metadata": {},
   "outputs": [],
   "source": [
    "import pandas as pd\n",
    "from matplotlib import pyplot as plt\n",
    "import warnings\n",
    "warnings.filterwarnings('ignore')"
   ]
  },
  {
   "cell_type": "markdown",
   "id": "0d1779dd-f944-4c7e-965d-28949db94035",
   "metadata": {},
   "source": [
    "### Reading the given CSV file"
   ]
  },
  {
   "cell_type": "code",
   "execution_count": 75,
   "id": "31165540-6446-445a-9881-55dc2b1e6ed7",
   "metadata": {},
   "outputs": [
    {
     "data": {
      "text/html": [
       "<div>\n",
       "<style scoped>\n",
       "    .dataframe tbody tr th:only-of-type {\n",
       "        vertical-align: middle;\n",
       "    }\n",
       "\n",
       "    .dataframe tbody tr th {\n",
       "        vertical-align: top;\n",
       "    }\n",
       "\n",
       "    .dataframe thead th {\n",
       "        text-align: right;\n",
       "    }\n",
       "</style>\n",
       "<table border=\"1\" class=\"dataframe\">\n",
       "  <thead>\n",
       "    <tr style=\"text-align: right;\">\n",
       "      <th></th>\n",
       "      <th>PassengerId</th>\n",
       "      <th>Survived</th>\n",
       "      <th>Pclass</th>\n",
       "      <th>Name</th>\n",
       "      <th>Sex</th>\n",
       "      <th>Age</th>\n",
       "      <th>SibSp</th>\n",
       "      <th>Parch</th>\n",
       "      <th>Ticket</th>\n",
       "      <th>Fare</th>\n",
       "      <th>Cabin</th>\n",
       "      <th>Embarked</th>\n",
       "    </tr>\n",
       "  </thead>\n",
       "  <tbody>\n",
       "    <tr>\n",
       "      <th>0</th>\n",
       "      <td>1</td>\n",
       "      <td>0</td>\n",
       "      <td>3</td>\n",
       "      <td>Braund, Mr. Owen Harris</td>\n",
       "      <td>male</td>\n",
       "      <td>22.0</td>\n",
       "      <td>1</td>\n",
       "      <td>0</td>\n",
       "      <td>A/5 21171</td>\n",
       "      <td>7.2500</td>\n",
       "      <td>NaN</td>\n",
       "      <td>S</td>\n",
       "    </tr>\n",
       "    <tr>\n",
       "      <th>1</th>\n",
       "      <td>2</td>\n",
       "      <td>1</td>\n",
       "      <td>1</td>\n",
       "      <td>Cumings, Mrs. John Bradley (Florence Briggs Th...</td>\n",
       "      <td>female</td>\n",
       "      <td>38.0</td>\n",
       "      <td>1</td>\n",
       "      <td>0</td>\n",
       "      <td>PC 17599</td>\n",
       "      <td>71.2833</td>\n",
       "      <td>C85</td>\n",
       "      <td>C</td>\n",
       "    </tr>\n",
       "    <tr>\n",
       "      <th>2</th>\n",
       "      <td>3</td>\n",
       "      <td>1</td>\n",
       "      <td>3</td>\n",
       "      <td>Heikkinen, Miss. Laina</td>\n",
       "      <td>female</td>\n",
       "      <td>26.0</td>\n",
       "      <td>0</td>\n",
       "      <td>0</td>\n",
       "      <td>STON/O2. 3101282</td>\n",
       "      <td>7.9250</td>\n",
       "      <td>NaN</td>\n",
       "      <td>S</td>\n",
       "    </tr>\n",
       "    <tr>\n",
       "      <th>3</th>\n",
       "      <td>4</td>\n",
       "      <td>1</td>\n",
       "      <td>1</td>\n",
       "      <td>Futrelle, Mrs. Jacques Heath (Lily May Peel)</td>\n",
       "      <td>female</td>\n",
       "      <td>35.0</td>\n",
       "      <td>1</td>\n",
       "      <td>0</td>\n",
       "      <td>113803</td>\n",
       "      <td>53.1000</td>\n",
       "      <td>C123</td>\n",
       "      <td>S</td>\n",
       "    </tr>\n",
       "    <tr>\n",
       "      <th>4</th>\n",
       "      <td>5</td>\n",
       "      <td>0</td>\n",
       "      <td>3</td>\n",
       "      <td>Allen, Mr. William Henry</td>\n",
       "      <td>male</td>\n",
       "      <td>35.0</td>\n",
       "      <td>0</td>\n",
       "      <td>0</td>\n",
       "      <td>373450</td>\n",
       "      <td>8.0500</td>\n",
       "      <td>NaN</td>\n",
       "      <td>S</td>\n",
       "    </tr>\n",
       "  </tbody>\n",
       "</table>\n",
       "</div>"
      ],
      "text/plain": [
       "   PassengerId  Survived  Pclass  \\\n",
       "0            1         0       3   \n",
       "1            2         1       1   \n",
       "2            3         1       3   \n",
       "3            4         1       1   \n",
       "4            5         0       3   \n",
       "\n",
       "                                                Name     Sex   Age  SibSp  \\\n",
       "0                            Braund, Mr. Owen Harris    male  22.0      1   \n",
       "1  Cumings, Mrs. John Bradley (Florence Briggs Th...  female  38.0      1   \n",
       "2                             Heikkinen, Miss. Laina  female  26.0      0   \n",
       "3       Futrelle, Mrs. Jacques Heath (Lily May Peel)  female  35.0      1   \n",
       "4                           Allen, Mr. William Henry    male  35.0      0   \n",
       "\n",
       "   Parch            Ticket     Fare Cabin Embarked  \n",
       "0      0         A/5 21171   7.2500   NaN        S  \n",
       "1      0          PC 17599  71.2833   C85        C  \n",
       "2      0  STON/O2. 3101282   7.9250   NaN        S  \n",
       "3      0            113803  53.1000  C123        S  \n",
       "4      0            373450   8.0500   NaN        S  "
      ]
     },
     "execution_count": 75,
     "metadata": {},
     "output_type": "execute_result"
    }
   ],
   "source": [
    "df=pd.read_csv(\"C:\\\\Users\\\\ayesh\\\\Downloads\\\\train.csv\")\n",
    "df.head()"
   ]
  },
  {
   "cell_type": "markdown",
   "id": "99d27fc1-34ce-47d9-8b2b-85617a7206d7",
   "metadata": {},
   "source": [
    "### Getting the shape (rows,columns) of the obtained dataset"
   ]
  },
  {
   "cell_type": "code",
   "execution_count": 76,
   "id": "c5b6c259-5ce2-477b-b44e-570a19e7d79b",
   "metadata": {},
   "outputs": [
    {
     "data": {
      "text/plain": [
       "(891, 12)"
      ]
     },
     "execution_count": 76,
     "metadata": {},
     "output_type": "execute_result"
    }
   ],
   "source": [
    "df.shape"
   ]
  },
  {
   "cell_type": "markdown",
   "id": "b2018582-68a8-463f-9589-2833eed00b12",
   "metadata": {},
   "source": [
    "## Phase 1: Removing NULL values"
   ]
  },
  {
   "cell_type": "markdown",
   "id": "04591abd-ff6c-476b-80f0-831e68ab36a2",
   "metadata": {},
   "source": [
    "### Checking each column for NULL values"
   ]
  },
  {
   "cell_type": "code",
   "execution_count": 77,
   "id": "fe28b84b-f06c-441f-829f-18f045570ac2",
   "metadata": {},
   "outputs": [
    {
     "data": {
      "text/plain": [
       "PassengerId    False\n",
       "Survived       False\n",
       "Pclass         False\n",
       "Name           False\n",
       "Sex            False\n",
       "Age             True\n",
       "SibSp          False\n",
       "Parch          False\n",
       "Ticket         False\n",
       "Fare           False\n",
       "Cabin           True\n",
       "Embarked        True\n",
       "dtype: bool"
      ]
     },
     "execution_count": 77,
     "metadata": {},
     "output_type": "execute_result"
    }
   ],
   "source": [
    "df.isna().any()"
   ]
  },
  {
   "cell_type": "markdown",
   "id": "8bc22fee-b82a-4150-b6b7-ebc5b35dc7c2",
   "metadata": {},
   "source": [
    "### Removing/Deleting the rows containing NULL values"
   ]
  },
  {
   "cell_type": "code",
   "execution_count": 78,
   "id": "f4b03e3c-63a5-4070-b587-81d8556944a4",
   "metadata": {},
   "outputs": [],
   "source": [
    "df.dropna(subset=['Age','Cabin','Embarked'],axis='rows',inplace=True)"
   ]
  },
  {
   "cell_type": "markdown",
   "id": "912963ad-a080-407b-ac58-6ef0499b1e1f",
   "metadata": {},
   "source": [
    "### Re-Checking the columns for confirmation"
   ]
  },
  {
   "cell_type": "code",
   "execution_count": 80,
   "id": "81a22497-b36f-4ce8-a855-e3fc3089b016",
   "metadata": {},
   "outputs": [
    {
     "data": {
      "text/plain": [
       "PassengerId    False\n",
       "Survived       False\n",
       "Pclass         False\n",
       "Name           False\n",
       "Sex            False\n",
       "Age            False\n",
       "SibSp          False\n",
       "Parch          False\n",
       "Ticket         False\n",
       "Fare           False\n",
       "Cabin          False\n",
       "Embarked       False\n",
       "dtype: bool"
      ]
     },
     "execution_count": 80,
     "metadata": {},
     "output_type": "execute_result"
    }
   ],
   "source": [
    "df.isna().any()"
   ]
  },
  {
   "cell_type": "markdown",
   "id": "2f40fb50-ceea-4d9f-8a7a-63f0e8910408",
   "metadata": {},
   "source": [
    "### Checking the shape for assurance"
   ]
  },
  {
   "cell_type": "code",
   "execution_count": 79,
   "id": "c46d549f-7066-47d5-a850-a22d25edcc33",
   "metadata": {},
   "outputs": [
    {
     "data": {
      "text/plain": [
       "(183, 12)"
      ]
     },
     "execution_count": 79,
     "metadata": {},
     "output_type": "execute_result"
    }
   ],
   "source": [
    "df.shape"
   ]
  },
  {
   "cell_type": "markdown",
   "id": "d1e39df8-2cf2-43ae-8aca-ca43b696c43c",
   "metadata": {},
   "source": [
    "## Phase 2: Removing Outliers"
   ]
  },
  {
   "cell_type": "markdown",
   "id": "40750ae5-d9f0-4f3b-a2d3-bce6c215c299",
   "metadata": {},
   "source": [
    "### Plotting Box Plot for the numeric columns to check whether the column contains outliers or not?"
   ]
  },
  {
   "cell_type": "code",
   "execution_count": 81,
   "id": "b3ea35c6-004f-44c9-8909-96312d422034",
   "metadata": {},
   "outputs": [
    {
     "data": {
      "text/plain": [
       "<Axes: >"
      ]
     },
     "execution_count": 81,
     "metadata": {},
     "output_type": "execute_result"
    },
    {
     "data": {
      "image/png": "[encoded data removed]",
      "text/plain": [
       "<Figure size 640x480 with 5 Axes>"
      ]
     },
     "metadata": {},
     "output_type": "display_data"
    }
   ],
   "source": [
    "plt.subplot(1,5,1)\n",
    "df['SibSp'].plot(kind='box')\n",
    "plt.subplot(1,5,2)\n",
    "df['Age'].plot(kind='box')\n",
    "plt.subplot(1,5,3)\n",
    "df['Pclass'].plot(kind='box')\n",
    "plt.subplot(1,5,4)\n",
    "df['Survived'].plot(kind='box')\n",
    "plt.subplot(1,5,5)\n",
    "df['Fare'].plot(kind='box')"
   ]
  },
  {
   "cell_type": "markdown",
   "id": "a7d44085-4eee-47a3-b578-a968eaa409fa",
   "metadata": {},
   "source": [
    "### Removing outliers from the columns of above chart"
   ]
  },
  {
   "cell_type": "code",
   "execution_count": 85,
   "id": "fcfa6ec8-4cad-4b75-b97a-5f7480ee3381",
   "metadata": {},
   "outputs": [
    {
     "name": "stdout",
     "output_type": "stream",
     "text": [
      "Total Outliers in  SibSp :  0\n",
      "Total Outliers in  Pclass :  0\n",
      "Total Outliers in  Fare :  9\n"
     ]
    }
   ],
   "source": [
    "for i in ('SibSp','Pclass','Fare'):\n",
    "    Q1=df[i].quantile(0.25)\n",
    "    Q3=df[i].quantile(0.75)\n",
    "    Q2=Q3-Q1\n",
    "    upper_limit=Q1+1.5*Q2\n",
    "    lower_limit=Q3-1.5*Q2\n",
    "    upper_limit,lower_limit\n",
    "    \n",
    "    print(\"Total Outliers in \",i,\": \",df[(df[i]>upper_limit)|(df[i]<lower_limit)].shape[0])\n",
    "\n",
    "    df.drop(axis='rows',index=df[(df[i]>upper_limit)|(df[i]<lower_limit)].index,inplace=True)"
   ]
  },
  {
   "cell_type": "markdown",
   "id": "a136fef9-4754-46c6-bdc8-a727ffc650e8",
   "metadata": {},
   "source": [
    "### Re-Plotting Box Plot for the confirmation"
   ]
  },
  {
   "cell_type": "code",
   "execution_count": 86,
   "id": "811f278b-e970-4ed3-b83b-3d2e105e9577",
   "metadata": {},
   "outputs": [
    {
     "data": {
      "text/plain": [
       "<Axes: >"
      ]
     },
     "execution_count": 86,
     "metadata": {},
     "output_type": "execute_result"
    },
    {
     "data": {
      "image/png": "[encoded data removed]",
      "text/plain": [
       "<Figure size 640x480 with 5 Axes>"
      ]
     },
     "metadata": {},
     "output_type": "display_data"
    }
   ],
   "source": [
    "plt.subplot(1,5,1)\n",
    "df['SibSp'].plot(kind='box')\n",
    "plt.subplot(1,5,2)\n",
    "df['Age'].plot(kind='box')\n",
    "plt.subplot(1,5,3)\n",
    "df['Pclass'].plot(kind='box')\n",
    "plt.subplot(1,5,4)\n",
    "df['Survived'].plot(kind='box')\n",
    "plt.subplot(1,5,5)\n",
    "df['Fare'].plot(kind='box')"
   ]
  },
  {
   "cell_type": "markdown",
   "id": "99322ade-9bdb-4657-927b-9b0b9d29f821",
   "metadata": {},
   "source": [
    "### Checking the shape for assurance"
   ]
  },
  {
   "cell_type": "code",
   "execution_count": 83,
   "id": "1683ac71-0e8c-4831-8c7f-ce054675a1c3",
   "metadata": {},
   "outputs": [
    {
     "data": {
      "text/plain": [
       "(109, 12)"
      ]
     },
     "execution_count": 83,
     "metadata": {},
     "output_type": "execute_result"
    }
   ],
   "source": [
    "df.shape"
   ]
  },
  {
   "cell_type": "markdown",
   "id": "207648fd-a5a4-4e89-8665-eb682f422c45",
   "metadata": {},
   "source": [
    "# <center><font color='green'>Thank You</font></center>"
   ]
  }
 ],
 "metadata": {
  "kernelspec": {
   "display_name": "Python 3 (ipykernel)",
   "language": "python",
   "name": "python3"
  },
  "language_info": {
   "codemirror_mode": {
    "name": "ipython",
    "version": 3
   },
   "file_extension": ".py",
   "mimetype": "text/x-python",
   "name": "python",
   "nbconvert_exporter": "python",
   "pygments_lexer": "ipython3",
   "version": "3.12.2"
  }
 },
 "nbformat": 4,
 "nbformat_minor": 5
}
